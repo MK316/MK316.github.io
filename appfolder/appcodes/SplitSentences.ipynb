{
  "nbformat": 4,
  "nbformat_minor": 0,
  "metadata": {
    "colab": {
      "private_outputs": true,
      "provenance": [],
      "authorship_tag": "ABX9TyOLIH/g3xjnQ/7oVJY/uTCJ",
      "include_colab_link": true
    },
    "kernelspec": {
      "name": "python3",
      "display_name": "Python 3"
    },
    "language_info": {
      "name": "python"
    }
  },
  "cells": [
    {
      "cell_type": "markdown",
      "metadata": {
        "id": "view-in-github",
        "colab_type": "text"
      },
      "source": [
        "<a href=\"https://colab.research.google.com/github/MK316/MK316.github.io/blob/main/appfolder/appcodes/SplitSentences.ipynb\" target=\"_parent\"><img src=\"https://colab.research.google.com/assets/colab-badge.svg\" alt=\"Open In Colab\"/></a>"
      ]
    },
    {
      "cell_type": "code",
      "execution_count": null,
      "metadata": {
        "id": "Szwl2oRWDMLa"
      },
      "outputs": [],
      "source": [
        "%%capture\n",
        "!pip install gradio gtts nltk pypng"
      ]
    },
    {
      "cell_type": "markdown",
      "source": [
        "# 1. Split sentence app (Local)\n",
        "\n",
        "This one works after assigning a text. The app generates the text by sentences with audio."
      ],
      "metadata": {
        "id": "klsk5Sp4VXb2"
      }
    },
    {
      "cell_type": "code",
      "source": [
        "# This should be done before running the graio\n",
        "\n",
        "mytext = input()"
      ],
      "metadata": {
        "id": "HTbmhKGTVnQH"
      },
      "execution_count": null,
      "outputs": []
    },
    {
      "cell_type": "code",
      "source": [
        "#@markdown Gradio app for Read-Aloud practice (by sentences)\n",
        "import gradio as gr\n",
        "from gtts import gTTS\n",
        "from nltk import tokenize\n",
        "import os\n",
        "\n",
        "# Import necessary nltk libraries\n",
        "import nltk\n",
        "nltk.download('punkt')\n",
        "\n",
        "mytext = input()\n",
        "\n",
        "# Tokenize the predefined text into sentences\n",
        "sentences = tokenize.sent_tokenize(mytext)\n",
        "\n",
        "def generate_audio(selected_item):\n",
        "    index_str = selected_item.split('.')[0]\n",
        "    index = int(index_str) - 1  # Adjust for 0-based index\n",
        "\n",
        "    if 0 <= index < len(sentences):\n",
        "        sentence = sentences[index]\n",
        "        tts = gTTS(text=sentence, lang='en')\n",
        "        audio_path = f'sentence_{index + 1}.mp3'\n",
        "        tts.save(audio_path)\n",
        "        return audio_path\n",
        "    else:\n",
        "        return \"Invalid sentence number\"\n",
        "\n",
        "# Gradio interface\n",
        "iface = gr.Interface(\n",
        "    fn=generate_audio,\n",
        "    inputs=gr.Dropdown(choices=[f\"{i + 1}. {s}\" for i, s in enumerate(sentences)], label=\"Select Sentence\"),\n",
        "    outputs=gr.Audio(label=\"Audio of Selected Sentence\"),\n",
        "    title=\"Text to Audio by Sentence\",\n",
        "    description=\"Select a sentence number to hear it spoken.\"\n",
        ")\n",
        "\n",
        "iface.launch()\n"
      ],
      "metadata": {
        "cellView": "form",
        "id": "6wHadIQwDXR1"
      },
      "execution_count": null,
      "outputs": []
    },
    {
      "cell_type": "markdown",
      "source": [
        "# 2. User interactive split sentences\n",
        "\n",
        "Note: This one doesn't have 'Submit button' but it works."
      ],
      "metadata": {
        "id": "hwJ3sRF6VC17"
      }
    },
    {
      "cell_type": "code",
      "source": [
        "#@markdown Split sentences (without Submit button)\n",
        "import gradio as gr\n",
        "from gtts import gTTS\n",
        "from nltk import tokenize\n",
        "import os\n",
        "\n",
        "# Import necessary nltk libraries\n",
        "import nltk\n",
        "nltk.download('punkt')\n",
        "\n",
        "# Global variable to store sentences\n",
        "sentences = []\n",
        "\n",
        "# Function to process text and generate sentence options\n",
        "def process_text(mytext):\n",
        "    global sentences\n",
        "    sentences = tokenize.sent_tokenize(mytext)\n",
        "    return [f\"{i + 1}. {s}\" for i, s in enumerate(sentences)]\n",
        "\n",
        "# Function to generate audio for the selected sentence\n",
        "def generate_audio(selected_item):\n",
        "    if not selected_item:\n",
        "        return None\n",
        "\n",
        "    index = int(selected_item.split('.')[0]) - 1  # Adjust for 0-based index\n",
        "\n",
        "    if 0 <= index < len(sentences):\n",
        "        sentence = sentences[index]\n",
        "        tts = gTTS(text=sentence, lang='en')\n",
        "        audio_path = f'sentence_{index + 1}.mp3'\n",
        "        tts.save(audio_path)\n",
        "        return audio_path\n",
        "    else:\n",
        "        return None\n",
        "\n",
        "# Gradio interface\n",
        "def interface_process_text(mytext):\n",
        "    dropdown_choices = process_text(mytext)\n",
        "    return dropdown_choices\n",
        "\n",
        "def interface_generate_audio(selected_item):\n",
        "    audio_path = generate_audio(selected_item)\n",
        "    return audio_path\n",
        "\n",
        "# Define Gradio components\n",
        "textbox = gr.Textbox(label=\"Enter your text here\")\n",
        "dropdown = gr.Dropdown(choices=[], label=\"Select Sentence\")\n",
        "audio_output = gr.Audio(label=\"Audio of Selected Sentence\")\n",
        "\n",
        "# Update dropdown choices based on text input\n",
        "def update_dropdown(mytext):\n",
        "    choices = process_text(mytext)\n",
        "    return gr.update(choices=choices), gr.update(value=None)\n",
        "\n",
        "# Create a Gradio Blocks app\n",
        "with gr.Blocks() as app:\n",
        "    with gr.Row():\n",
        "        with gr.Column():\n",
        "            textbox = gr.Textbox(label=\"Enter your text here\", interactive=True)\n",
        "            dropdown = gr.Dropdown(choices=[], label=\"Select Sentence\", interactive=True)\n",
        "        with gr.Column():\n",
        "            audio_output = gr.Audio(label=\"Audio of Selected Sentence\")\n",
        "\n",
        "    textbox.change(fn=update_dropdown, inputs=textbox, outputs=[dropdown, audio_output])\n",
        "    dropdown.change(fn=interface_generate_audio, inputs=dropdown, outputs=audio_output)\n",
        "\n",
        "app.launch(debug=True)\n"
      ],
      "metadata": {
        "cellView": "form",
        "id": "SV61gvArP444"
      },
      "execution_count": null,
      "outputs": []
    },
    {
      "cell_type": "markdown",
      "source": [
        "# 3. User interactive split sentences (Final version)\n",
        "\n",
        "24.05.17"
      ],
      "metadata": {
        "id": "dm8qQIhKVMKj"
      }
    },
    {
      "cell_type": "code",
      "source": [
        "#@markdown Split sentences (Final version)\n",
        "import gradio as gr\n",
        "from gtts import gTTS\n",
        "from nltk import tokenize\n",
        "import os\n",
        "\n",
        "# Import necessary nltk libraries\n",
        "import nltk\n",
        "nltk.download('punkt')\n",
        "\n",
        "# Global variable to store sentences\n",
        "sentences = []\n",
        "\n",
        "# Function to process text and generate sentence options\n",
        "def process_text(mytext):\n",
        "    global sentences\n",
        "    sentences = tokenize.sent_tokenize(mytext)\n",
        "    return [f\"{i + 1}. {s}\" for i, s in enumerate(sentences)]\n",
        "\n",
        "# Function to generate audio for the selected sentence\n",
        "def generate_audio(selected_item):\n",
        "    if not selected_item:\n",
        "        return None\n",
        "\n",
        "    index = int(selected_item.split('.')[0]) - 1  # Adjust for 0-based index\n",
        "\n",
        "    if 0 <= index < len(sentences):\n",
        "        sentence = sentences[index]\n",
        "        tts = gTTS(text=sentence, lang='en')\n",
        "        audio_path = f'sentence_{index + 1}.mp3'\n",
        "        tts.save(audio_path)\n",
        "        return audio_path\n",
        "    else:\n",
        "        return None\n",
        "\n",
        "# Function to update dropdown choices based on text input\n",
        "def update_dropdown(mytext):\n",
        "    choices = process_text(mytext)\n",
        "    return gr.update(choices=choices)\n",
        "\n",
        "# Create a Gradio Blocks app\n",
        "with gr.Blocks() as app:\n",
        "    with gr.Row():\n",
        "        textbox = gr.Textbox(label=\"Enter your text here\")\n",
        "    with gr.Row():\n",
        "        submit_button = gr.Button(\"Submit\")\n",
        "    with gr.Row():\n",
        "        dropdown = gr.Dropdown(choices=[], label=\"Select Sentence\")\n",
        "    with gr.Row():\n",
        "        audio_output = gr.Audio(label=\"Audio of Selected Sentence\")\n",
        "\n",
        "    submit_button.click(fn=update_dropdown, inputs=textbox, outputs=dropdown)\n",
        "    dropdown.change(fn=generate_audio, inputs=dropdown, outputs=audio_output)\n",
        "\n",
        "app.launch()\n"
      ],
      "metadata": {
        "cellView": "form",
        "id": "Q6WBukOFUMwo"
      },
      "execution_count": null,
      "outputs": []
    }
  ]
}